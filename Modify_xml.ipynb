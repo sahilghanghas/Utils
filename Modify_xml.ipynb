{
 "cells": [
  {
   "cell_type": "code",
   "execution_count": 1,
   "metadata": {},
   "outputs": [],
   "source": [
    "import xml.etree.ElementTree\n",
    "import glob"
   ]
  },
  {
   "cell_type": "markdown",
   "metadata": {},
   "source": [
    "## Editing XML"
   ]
  },
  {
   "cell_type": "markdown",
   "metadata": {},
   "source": [
    "Upload all the files from the directory"
   ]
  },
  {
   "cell_type": "code",
   "execution_count": null,
   "metadata": {},
   "outputs": [],
   "source": [
    "directory_path = '/media/auv/Untitled/200510_PMFS/Dive03_DaisyBank/Annotations/*.xml'"
   ]
  },
  {
   "cell_type": "code",
   "execution_count": null,
   "metadata": {},
   "outputs": [],
   "source": [
    "files = glob.glob(directory_path)"
   ]
  },
  {
   "cell_type": "markdown",
   "metadata": {},
   "source": [
    "Iterate over all the files and make the necessary changes into xml through root."
   ]
  },
  {
   "cell_type": "code",
   "execution_count": null,
   "metadata": {},
   "outputs": [],
   "source": [
    "for file in files:\n",
    "    et = xml.etree.ElementTree.parse(file)\n",
    "    root = et.getroot()\n",
    "    for obj in root.findall('object'):\n",
    "        name = obj.find('name')\n",
    "        if name.text == 'sponge':\n",
    "            print(file)\n",
    "            print(name.text)\n",
    "            # remove object of the root\n",
    "            #root.remove(obj)\n",
    "    #et.write(file)"
   ]
  },
  {
   "cell_type": "markdown",
   "metadata": {},
   "source": [
    "Testing code"
   ]
  },
  {
   "cell_type": "code",
   "execution_count": 33,
   "metadata": {},
   "outputs": [],
   "source": [
    "tes_path = '/media/auv/Untitled/200510_PMFS/Dive03_DaisyBank/Annotations/CCXC.20051018.15084692.0418.xml'"
   ]
  },
  {
   "cell_type": "code",
   "execution_count": 34,
   "metadata": {},
   "outputs": [],
   "source": [
    "# Open original file\n",
    "test = xml.etree.ElementTree.parse(tes_path)"
   ]
  },
  {
   "cell_type": "code",
   "execution_count": 36,
   "metadata": {},
   "outputs": [],
   "source": [
    "test_root = test.getroot()"
   ]
  },
  {
   "cell_type": "code",
   "execution_count": 15,
   "metadata": {},
   "outputs": [
    {
     "name": "stdout",
     "output_type": "stream",
     "text": [
      "folder {}\n",
      "filename {}\n",
      "path {}\n",
      "source {}\n",
      "size {}\n",
      "segmented {}\n",
      "object {}\n"
     ]
    }
   ],
   "source": [
    "root.tag\n",
    "root.attrib\n",
    "for child in root:\n",
    "    print(child.tag, child.attrib)"
   ]
  },
  {
   "cell_type": "code",
   "execution_count": 56,
   "metadata": {
    "collapsed": true
   },
   "outputs": [
    {
     "name": "stdout",
     "output_type": "stream",
     "text": [
      "<Element 'name' at 0x7fcb9c4923b8>\n",
      "fish\n",
      "<Element 'name' at 0x7fcb9c492b88>\n",
      "fish\n",
      "<Element 'name' at 0x7fcb9c470818>\n",
      "fish\n",
      "<Element 'name' at 0x7fcb9c444548>\n",
      "fish\n",
      "<Element 'name' at 0x7fcb9c444228>\n",
      "fish\n",
      "<Element 'name' at 0x7fcb9c444ea8>\n",
      "w\n",
      "<Element 'name' at 0x7fcb9c444ea8>\n",
      "<Element 'name' at 0x7fcb9c449228>\n",
      "starfish\n"
     ]
    }
   ],
   "source": [
    "for obj in test_root.findall('object'):\n",
    "    name = obj.find('name')\n",
    "    print(name)\n",
    "    print(obj[0].text)\n",
    "    if name.text == 'w':\n",
    "        print(name)\n",
    "        test_root.remove(obj)"
   ]
  },
  {
   "cell_type": "code",
   "execution_count": 57,
   "metadata": {},
   "outputs": [],
   "source": [
    "test.write('output.xml')"
   ]
  },
  {
   "cell_type": "code",
   "execution_count": 7,
   "metadata": {},
   "outputs": [],
   "source": [
    "for ele in et.iterfind('annotation/object'):\n",
    "    name = ele.findtext('name')\n",
    "    print(name)"
   ]
  },
  {
   "cell_type": "code",
   "execution_count": 28,
   "metadata": {},
   "outputs": [
    {
     "name": "stdout",
     "output_type": "stream",
     "text": [
      "fish\n"
     ]
    }
   ],
   "source": [
    "for name in root.iter('name'):\n",
    "    print(name.text)"
   ]
  },
  {
   "cell_type": "code",
   "execution_count": 64,
   "metadata": {},
   "outputs": [],
   "source": []
  },
  {
   "cell_type": "code",
   "execution_count": 72,
   "metadata": {},
   "outputs": [
    {
     "name": "stdout",
     "output_type": "stream",
     "text": [
      "/media/auv/Untitled/200510_PMFS/Dive03_DaisyBank/Annotations/CCXC.20051018.15091997.0429.xml\n",
      "sponge\n",
      "/media/auv/Untitled/200510_PMFS/Dive03_DaisyBank/Annotations/CCXC.20051018.15023767.0295.xml\n",
      "sponge\n"
     ]
    }
   ],
   "source": []
  },
  {
   "cell_type": "code",
   "execution_count": null,
   "metadata": {},
   "outputs": [],
   "source": []
  }
 ],
 "metadata": {
  "kernelspec": {
   "display_name": "Python 3",
   "language": "python",
   "name": "python3"
  },
  "language_info": {
   "codemirror_mode": {
    "name": "ipython",
    "version": 3
   },
   "file_extension": ".py",
   "mimetype": "text/x-python",
   "name": "python",
   "nbconvert_exporter": "python",
   "pygments_lexer": "ipython3",
   "version": "3.6.8"
  }
 },
 "nbformat": 4,
 "nbformat_minor": 2
}
